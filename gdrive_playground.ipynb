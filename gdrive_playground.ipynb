{
  "nbformat": 4,
  "nbformat_minor": 0,
  "metadata": {
    "colab": {
      "name": "gdrive-playground.ipynb",
      "provenance": [],
      "collapsed_sections": [],
      "toc_visible": true,
      "mount_file_id": "1NPMycfLAi3sEoHTdUNZXGj7XdyDwtAyv",
      "authorship_tag": "ABX9TyMk41MGwwdZh+jkEzQ9E+eq",
      "include_colab_link": true
    },
    "kernelspec": {
      "name": "python3",
      "display_name": "Python 3"
    }
  },
  "cells": [
    {
      "cell_type": "markdown",
      "metadata": {
        "id": "view-in-github",
        "colab_type": "text"
      },
      "source": [
        "<a href=\"https://colab.research.google.com/github/adamxuuuu/figma-pie/blob/master/gdrive_playground.ipynb\" target=\"_parent\"><img src=\"https://colab.research.google.com/assets/colab-badge.svg\" alt=\"Open In Colab\"/></a>"
      ]
    },
    {
      "cell_type": "markdown",
      "metadata": {
        "id": "VbfdfhnI-TqP"
      },
      "source": [
        "## 和Google Apps连接认证\n",
        "\n",
        "### 每次重新连接都需要运行并获取验证码\n"
      ]
    },
    {
      "cell_type": "code",
      "metadata": {
        "id": "ObEDoLZit_oT"
      },
      "source": [
        "# This block will authenticate you and will \n",
        "# Allow you to interact with Google Sheets \n",
        "# And other Google apps in your notebook.\n",
        "from google.colab import auth\n",
        "auth.authenticate_user()\n",
        "\n",
        "import gspread\n",
        "from oauth2client.client import GoogleCredentials\n",
        "\n",
        "# Aquire credentials\n",
        "gc = gspread.authorize(GoogleCredentials.get_application_default())"
      ],
      "execution_count": null,
      "outputs": []
    },
    {
      "cell_type": "markdown",
      "metadata": {
        "id": "15Iq3xsUB0Vr"
      },
      "source": [
        "## 从Google Sheet上拿到所需的Sheets\n",
        "\n",
        "\n",
        "---\n",
        "\n",
        "\n",
        "#### Crawled | Attributes | Backlog"
      ]
    },
    {
      "cell_type": "code",
      "metadata": {
        "id": "dGME2aGoCFbp"
      },
      "source": [
        "import pandas as pd\n",
        "pd.set_option('display.max_rows', None)\n",
        "pd.set_option('display.max_columns', None)\n",
        "pd.set_option('display.width', None)\n",
        "pd.set_option('display.max_colwidth', None)\n",
        "import matplotlib.pyplot as plt\n",
        "\n",
        "# Open workbook\n",
        "wb = gc.open_by_url('https://docs.google.com/spreadsheets/d/1GQc_QEqIe9rW37UL7QB9YBnZ_-2kjhVukxM0JyRSor8')\n",
        "# Open the Backlog spread sheet\n",
        "backlog = wb.worksheet('Backlog')\n",
        "# Open the Statistics spread sheet\n",
        "stats = wb.worksheet('Statistics')\n",
        "# Open the Crawled spread sheet\n",
        "crawled = wb.worksheet('Crawled')"
      ],
      "execution_count": null,
      "outputs": []
    },
    {
      "cell_type": "markdown",
      "metadata": {
        "id": "Hgt7TvPzE8_i"
      },
      "source": [
        "## 从Figma上面抓取字段信息，并更新Google Sheet\n"
      ]
    },
    {
      "cell_type": "markdown",
      "metadata": {
        "id": "5Vsgt9UYlHpg"
      },
      "source": [
        "## 获取页面所需的所有爬取字段，并更新Google Sheet\n"
      ]
    },
    {
      "cell_type": "code",
      "metadata": {
        "id": "hERPJu52wPof",
        "colab": {
          "base_uri": "https://localhost:8080/"
        },
        "outputId": "b4b261ea-afe9-4c88-dfbd-67985aeef4b9"
      },
      "source": [
        "attr_need = set()\n",
        "backlog_data = backlog.get_all_values()\n",
        "# Remove header row\n",
        "for row in backlog_data[1:]: \n",
        "    # Select colums 3 to 5 -> [2:5)\n",
        "    for item in row[2:5]:\n",
        "        attr_need.add(item)\n",
        "attr_need.remove('')\n",
        "\n",
        "# Select the range\n",
        "rng = 'I2:I{}'.format(len(attr_need) + 1)\n",
        "cell_list = stats.range(rng)\n",
        "\n",
        "# Populate the list\n",
        "attr_list = sorted(attr_need, reverse=True)\n",
        "for cell in cell_list:\n",
        "    cell.value = attr_list.pop()\n",
        "\n",
        "# Update in batch\n",
        "stats.update_cells(cell_list)"
      ],
      "execution_count": null,
      "outputs": [
        {
          "output_type": "execute_result",
          "data": {
            "text/plain": [
              "{'spreadsheetId': '1GQc_QEqIe9rW37UL7QB9YBnZ_-2kjhVukxM0JyRSor8',\n",
              " 'updatedCells': 11,\n",
              " 'updatedColumns': 1,\n",
              " 'updatedRange': 'Statistics!I2:I12',\n",
              " 'updatedRows': 11}"
            ]
          },
          "metadata": {
            "tags": []
          },
          "execution_count": 3
        }
      ]
    },
    {
      "cell_type": "markdown",
      "metadata": {
        "id": "XNjxBuIOWiL_"
      },
      "source": [
        "## 根据所需爬取字段计算页面可行性，并更新Google Sheet\n",
        "\n",
        "\n",
        "---\n",
        "\n",
        "\n",
        "#### 51_job |\n"
      ]
    },
    {
      "cell_type": "code",
      "metadata": {
        "id": "Ni3aTXMwrUNk",
        "colab": {
          "base_uri": "https://localhost:8080/"
        },
        "outputId": "6775b398-fbe8-494f-d786-46fa55ca432a"
      },
      "source": [
        "# Get all data from the Crawled sheet \n",
        "# And extract attributes from the '51_job' column\n",
        "crwaled_data = crawled.get_all_values()\n",
        "attr_51 = []\n",
        "for row in crwaled_data[1:]:\n",
        "    if row[5]:\n",
        "        attr_51.append(row[5])\n",
        "\n",
        "# Get all values from the Backlog sheet\n",
        "rows = backlog.get_all_values()\n",
        "res = dict()\n",
        "for row in rows[1:]:\n",
        "    # print(row[2:5])\n",
        "    available = True\n",
        "    isEmpty = True\n",
        "    for attr in row[2:5]:\n",
        "        if attr:\n",
        "            isEmpty = False\n",
        "        if attr not in attr_51:\n",
        "            available = False\n",
        "            break\n",
        "    res[row[1]] = available or not isEmpty\n",
        "\n",
        "# Select the range\n",
        "rng = 'L2:M{}'.format(len(res) + 1)\n",
        "cell_list = stats.range(rng)\n",
        "\n",
        "# Populate the list\n",
        "idx = 0\n",
        "for k, v in res.items():\n",
        "    cell_list[idx].value = k\n",
        "    cell_list[idx + 1].value = v\n",
        "    idx += 2\n",
        "\n",
        "\n",
        "# Update in batch\n",
        "stats.update_cells(cell_list)"
      ],
      "execution_count": null,
      "outputs": [
        {
          "output_type": "execute_result",
          "data": {
            "text/plain": [
              "{'spreadsheetId': '1GQc_QEqIe9rW37UL7QB9YBnZ_-2kjhVukxM0JyRSor8',\n",
              " 'updatedCells': 96,\n",
              " 'updatedColumns': 2,\n",
              " 'updatedRange': 'Statistics!L2:M49',\n",
              " 'updatedRows': 48}"
            ]
          },
          "metadata": {
            "tags": []
          },
          "execution_count": 4
        }
      ]
    }
  ]
}